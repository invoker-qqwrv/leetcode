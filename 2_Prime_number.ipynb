{
  "nbformat": 4,
  "nbformat_minor": 0,
  "metadata": {
    "colab": {
      "provenance": [],
      "authorship_tag": "ABX9TyP+Sevfz7bHDvsxbHFNq/Xa",
      "include_colab_link": true
    },
    "kernelspec": {
      "name": "python3",
      "display_name": "Python 3"
    },
    "language_info": {
      "name": "python"
    }
  },
  "cells": [
    {
      "cell_type": "markdown",
      "metadata": {
        "id": "view-in-github",
        "colab_type": "text"
      },
      "source": [
        "<a href=\"https://colab.research.google.com/github/invoker-qqwrv/leetcode/blob/main/2_Prime_number.ipynb\" target=\"_parent\"><img src=\"https://colab.research.google.com/assets/colab-badge.svg\" alt=\"Open In Colab\"/></a>"
      ]
    },
    {
      "cell_type": "code",
      "execution_count": 3,
      "metadata": {
        "colab": {
          "base_uri": "https://localhost:8080/"
        },
        "id": "zdBXIopMY2cB",
        "outputId": "06500a8b-294a-488f-8640-354e41a6c2cb"
      },
      "outputs": [
        {
          "output_type": "stream",
          "name": "stdout",
          "text": [
            "2.8284271247461903\n"
          ]
        }
      ],
      "source": [
        "# 输入一个正整数看看它是不是素数\n",
        "# 正整数n是一个素数，当且仅当它不能被任何一个小于sqrt（n）的素数整除。\n",
        "from math import sqrt\n",
        "# num=int(input('请输入一个整数：'))\n",
        "# end=int(sqrt(num))\n",
        "print(sqrt(8))"
      ]
    },
    {
      "cell_type": "code",
      "source": [
        "num=int(input('请输入一个整数：'))\n",
        "end=int(sqrt(num))\n",
        "is_prime=True#是用来做标记的\n",
        "# 在for循环中，如果存在会被其他因数整除的自然数，则标记is_prime=False\n",
        "for i in range(2,end+1):\n",
        "  if num%i==0:\n",
        "    is_prime=False#如果满足这个if条件就标记为false\n",
        "    break\n",
        "if is_prime and num!=1:\n",
        "  print('num是素数')\n",
        "else:\n",
        "  print('num不是素数')"
      ],
      "metadata": {
        "colab": {
          "base_uri": "https://localhost:8080/"
        },
        "id": "8pi5SBUbbZzY",
        "outputId": "31cf68d2-07ef-42d2-bb07-81cc360c341b"
      },
      "execution_count": 9,
      "outputs": [
        {
          "output_type": "stream",
          "name": "stdout",
          "text": [
            "请输入一个整数：66\n",
            "num不是素数\n"
          ]
        }
      ]
    }
  ]
}