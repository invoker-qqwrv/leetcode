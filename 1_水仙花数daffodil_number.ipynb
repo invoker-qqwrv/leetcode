{
  "nbformat": 4,
  "nbformat_minor": 0,
  "metadata": {
    "colab": {
      "provenance": [],
      "authorship_tag": "ABX9TyMZzYphWj1SeOTk+mPXFqY0",
      "include_colab_link": true
    },
    "kernelspec": {
      "name": "python3",
      "display_name": "Python 3"
    },
    "language_info": {
      "name": "python"
    }
  },
  "cells": [
    {
      "cell_type": "markdown",
      "metadata": {
        "id": "view-in-github",
        "colab_type": "text"
      },
      "source": [
        "<a href=\"https://colab.research.google.com/github/invoker-qqwrv/leetcode/blob/main/1_%E6%B0%B4%E4%BB%99%E8%8A%B1%E6%95%B0daffodil_number.ipynb\" target=\"_parent\"><img src=\"https://colab.research.google.com/assets/colab-badge.svg\" alt=\"Open In Colab\"/></a>"
      ]
    },
    {
      "cell_type": "code",
      "execution_count": 2,
      "metadata": {
        "id": "MxwNb5pZkWlc",
        "colab": {
          "base_uri": "https://localhost:8080/"
        },
        "outputId": "5ef27c8c-ca03-48b7-8a70-6f9ec11c5ef0"
      },
      "outputs": [
        {
          "output_type": "stream",
          "name": "stdout",
          "text": [
            "153\n",
            "370\n",
            "371\n",
            "407\n"
          ]
        }
      ],
      "source": [
        "# 某个三位数。每一位的三次方等于它本身\n",
        "for i in range(100,1000):\n",
        "  gewei=i%10    #%是取余数，i=234这项取4\n",
        "  shiwei=i//10%10 #先除以10再取整，23，再除以10取余数，为3\n",
        "  baiwei=i//100  #取整，假设i=234的话。这项取2\n",
        "  if i==gewei**3+shiwei**3+baiwei**3:#这里是两个==\n",
        "    print(i)\n"
      ]
    }
  ]
}