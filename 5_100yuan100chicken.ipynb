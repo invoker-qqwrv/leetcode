{
  "nbformat": 4,
  "nbformat_minor": 0,
  "metadata": {
    "colab": {
      "provenance": [],
      "authorship_tag": "ABX9TyPvQCZA1Ka7i3Xk9hUmatNN",
      "include_colab_link": true
    },
    "kernelspec": {
      "name": "python3",
      "display_name": "Python 3"
    },
    "language_info": {
      "name": "python"
    }
  },
  "cells": [
    {
      "cell_type": "markdown",
      "metadata": {
        "id": "view-in-github",
        "colab_type": "text"
      },
      "source": [
        "<a href=\"https://colab.research.google.com/github/invoker-qqwrv/leetcode/blob/main/5_100yuan100chicken.ipynb\" target=\"_parent\"><img src=\"https://colab.research.google.com/assets/colab-badge.svg\" alt=\"Open In Colab\"/></a>"
      ]
    },
    {
      "cell_type": "code",
      "execution_count": null,
      "metadata": {
        "id": "Iz46LIe2wDqW"
      },
      "outputs": [],
      "source": [
        "# 求解《百钱百鸡》问题\n",
        "# 1只公鸡5元 1只母鸡3元 3只小鸡1元 用100元买100只鸡\n",
        "# 问公鸡 母鸡 小鸡各有多少只"
      ]
    },
    {
      "cell_type": "code",
      "source": [
        "for x in range(0,20):\n",
        "  for y in range(0,33):\n",
        "    z=100-x-y\n",
        "    if x*5+3*y+z/3==100:\n",
        "      print(x,y,z)"
      ],
      "metadata": {
        "colab": {
          "base_uri": "https://localhost:8080/"
        },
        "id": "lmtqL3iUwK2w",
        "outputId": "6f5205fd-7ec7-44e4-a6b6-d6feb2a1f34c"
      },
      "execution_count": 3,
      "outputs": [
        {
          "output_type": "stream",
          "name": "stdout",
          "text": [
            "0 25 75\n",
            "4 18 78\n",
            "8 11 81\n",
            "12 4 84\n"
          ]
        }
      ]
    }
  ]
}