{
  "nbformat": 4,
  "nbformat_minor": 0,
  "metadata": {
    "colab": {
      "provenance": [],
      "authorship_tag": "ABX9TyOOqHKbbpkdnaxx4IxSJWnc",
      "include_colab_link": true
    },
    "kernelspec": {
      "name": "python3",
      "display_name": "Python 3"
    },
    "language_info": {
      "name": "python"
    }
  },
  "cells": [
    {
      "cell_type": "markdown",
      "metadata": {
        "id": "view-in-github",
        "colab_type": "text"
      },
      "source": [
        "<a href=\"https://colab.research.google.com/github/invoker-qqwrv/leetcode/blob/main/3_the_greatest_common_divisor_and_least_common_multiple.ipynb\" target=\"_parent\"><img src=\"https://colab.research.google.com/assets/colab-badge.svg\" alt=\"Open In Colab\"/></a>"
      ]
    },
    {
      "cell_type": "code",
      "execution_count": 4,
      "metadata": {
        "colab": {
          "base_uri": "https://localhost:8080/"
        },
        "id": "g7AxUZZAe0gr",
        "outputId": "bed7b36b-b61b-4ca5-ee2b-9481530e851e"
      },
      "outputs": [
        {
          "output_type": "stream",
          "name": "stdout",
          "text": [
            "x = 8\n",
            "y = 24\n",
            "8和24的最大公约数是8\n",
            "8和24的最小公倍数是24\n"
          ]
        }
      ],
      "source": [
        "# 输入两个正整数计算最大公约数和最小公倍数\n",
        "# 最大公约数：两个数同时被一个数整除\n",
        "# 最小公倍数：两个或多个整数公有的倍数叫做它们的公倍数\n",
        "x = int(input('x = '))\n",
        "y = int(input('y = '))\n",
        "if x > y:\n",
        "    (x, y) = (y, x)\n",
        "for i in range(x,0,-1):\n",
        "  if x%i==0 and y%i==0:\n",
        "    print('%d和%d的最大公约数是%d'%(x,y,i))\n",
        "    print('%d和%d的最小公倍数是%d'%(x,y,x*y//i))\n",
        "    break#找到立刻break防止程序继续执行"
      ]
    },
    {
      "cell_type": "code",
      "source": [],
      "metadata": {
        "id": "jk2tjJs4kJlP"
      },
      "execution_count": null,
      "outputs": []
    }
  ]
}