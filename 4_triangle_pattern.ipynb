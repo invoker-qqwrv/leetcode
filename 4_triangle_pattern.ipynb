{
  "nbformat": 4,
  "nbformat_minor": 0,
  "metadata": {
    "colab": {
      "provenance": [],
      "authorship_tag": "ABX9TyOK+POM2g2ImYQM46+dVvCv",
      "include_colab_link": true
    },
    "kernelspec": {
      "name": "python3",
      "display_name": "Python 3"
    },
    "language_info": {
      "name": "python"
    }
  },
  "cells": [
    {
      "cell_type": "markdown",
      "metadata": {
        "id": "view-in-github",
        "colab_type": "text"
      },
      "source": [
        "<a href=\"https://colab.research.google.com/github/invoker-qqwrv/leetcode/blob/main/4_triangle_pattern.ipynb\" target=\"_parent\"><img src=\"https://colab.research.google.com/assets/colab-badge.svg\" alt=\"Open In Colab\"/></a>"
      ]
    },
    {
      "cell_type": "code",
      "execution_count": 3,
      "metadata": {
        "colab": {
          "base_uri": "https://localhost:8080/"
        },
        "id": "Mz8B3gLSm7QP",
        "outputId": "6af8962e-72c6-434b-9960-2296ac3c1f60"
      },
      "outputs": [
        {
          "output_type": "stream",
          "name": "stdout",
          "text": [
            "row:5\n",
            "*\n",
            "**\n",
            "***\n",
            "****\n",
            "*****\n"
          ]
        }
      ],
      "source": [
        "row=int(input('row:'))\n",
        "for i in range(row):#行\n",
        "  for j in range(i+1):#每行的第几个元素\n",
        "    print('*',end='')\n",
        "  print()#输出换行"
      ]
    },
    {
      "cell_type": "code",
      "source": [
        "row=int(input('row:'))\n",
        "#row=，是指01234行\n",
        "# 同理j的取值也是从01234\n",
        "for i in range(row):\n",
        "  for j in range(row):\n",
        "    if j<row-i-1:#有递进的关系，肯定要用到i\n",
        "      print(' ',end='')\n",
        "    else:\n",
        "      print('*',end='')\n",
        "  print()"
      ],
      "metadata": {
        "colab": {
          "base_uri": "https://localhost:8080/"
        },
        "id": "q5yJy_Z1nhgn",
        "outputId": "421bbca3-ea50-46c3-d264-527926852c96"
      },
      "execution_count": 14,
      "outputs": [
        {
          "output_type": "stream",
          "name": "stdout",
          "text": [
            "row:5\n",
            "    *\n",
            "   **\n",
            "  ***\n",
            " ****\n",
            "*****\n"
          ]
        }
      ]
    },
    {
      "cell_type": "code",
      "source": [
        "for i in range(5):\n",
        "  print(i)"
      ],
      "metadata": {
        "colab": {
          "base_uri": "https://localhost:8080/"
        },
        "id": "ue5N9zOOtmNv",
        "outputId": "7cf8f662-042a-4cc4-cd64-f83c730fb71c"
      },
      "execution_count": 13,
      "outputs": [
        {
          "output_type": "stream",
          "name": "stdout",
          "text": [
            "0\n",
            "1\n",
            "2\n",
            "3\n",
            "4\n"
          ]
        }
      ]
    },
    {
      "cell_type": "code",
      "source": [
        "# 这个理解不了\n",
        "row=int(input('row:'))\n",
        "for i in range(row):\n",
        "    for j in range(row-i-1):\n",
        "        print(' ',end='')\n",
        "    for j in range(2*i+1):\n",
        "        print('*',end='')\n",
        "    print()"
      ],
      "metadata": {
        "colab": {
          "base_uri": "https://localhost:8080/"
        },
        "id": "SjAjflVjuJMw",
        "outputId": "7f1b2cad-953e-4784-9d71-3e7076673fc4"
      },
      "execution_count": 17,
      "outputs": [
        {
          "output_type": "stream",
          "name": "stdout",
          "text": [
            "row:5\n",
            "    *\n",
            "   ***\n",
            "  *****\n",
            " *******\n",
            "*********\n"
          ]
        }
      ]
    }
  ]
}